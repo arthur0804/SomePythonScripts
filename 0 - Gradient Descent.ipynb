{
 "cells": [
  {
   "cell_type": "code",
   "execution_count": 194,
   "metadata": {},
   "outputs": [],
   "source": [
    "import numpy as np\n",
    "from matplotlib import pyplot as plt\n",
    "import time"
   ]
  },
  {
   "cell_type": "code",
   "execution_count": 195,
   "metadata": {},
   "outputs": [],
   "source": [
    "x = 2 * np.random.rand(100,1)\n",
    "y = 4 +3 * x + np.random.randn(100,1)"
   ]
  },
  {
   "cell_type": "code",
   "execution_count": 196,
   "metadata": {},
   "outputs": [
    {
     "data": {
      "image/png": "[encoded data removed]",
      "text/plain": [
       "<Figure size 432x288 with 1 Axes>"
      ]
     },
     "metadata": {},
     "output_type": "display_data"
    }
   ],
   "source": [
    "plt.plot(x,y,'b.')\n",
    "plt.show()"
   ]
  },
  {
   "cell_type": "code",
   "execution_count": 197,
   "metadata": {},
   "outputs": [],
   "source": [
    "# 1. solve by doing matrix calculating"
   ]
  },
  {
   "cell_type": "code",
   "execution_count": 198,
   "metadata": {},
   "outputs": [],
   "source": [
    "# add the intercept and combine with the x\n",
    "intercept = np.ones((100,1))\n",
    "new_x = np.concatenate((intercept, x), axis=1)"
   ]
  },
  {
   "cell_type": "markdown",
   "metadata": {},
   "source": [
    "formula: theta =  Inverse(transpose(X) * X ) * transpose(X) * Y"
   ]
  },
  {
   "cell_type": "code",
   "execution_count": 199,
   "metadata": {},
   "outputs": [
    {
     "name": "stdout",
     "output_type": "stream",
     "text": [
      "0.00045800209045410156 seconds\n",
      "[[4.35046216]\n",
      " [2.75395049]]\n"
     ]
    }
   ],
   "source": [
    "start = time.time()\n",
    "theta_best = np.linalg.inv(new_x.T.dot(new_x)).dot(new_x.T).dot(y)\n",
    "end = time.time()\n",
    "print(\"{} seconds\".format(end - start))\n",
    "print(theta_best)"
   ]
  },
  {
   "cell_type": "code",
   "execution_count": 200,
   "metadata": {},
   "outputs": [],
   "source": [
    "# 2. solve with scikit-learn"
   ]
  },
  {
   "cell_type": "code",
   "execution_count": 201,
   "metadata": {},
   "outputs": [],
   "source": [
    "from sklearn.linear_model import LinearRegression"
   ]
  },
  {
   "cell_type": "code",
   "execution_count": 202,
   "metadata": {},
   "outputs": [],
   "source": [
    "import pandas as pd"
   ]
  },
  {
   "cell_type": "code",
   "execution_count": 203,
   "metadata": {},
   "outputs": [],
   "source": [
    "lm = LinearRegression()"
   ]
  },
  {
   "cell_type": "code",
   "execution_count": 204,
   "metadata": {
    "scrolled": true
   },
   "outputs": [
    {
     "data": {
      "text/plain": [
       "LinearRegression(copy_X=True, fit_intercept=True, n_jobs=None,\n",
       "         normalize=False)"
      ]
     },
     "execution_count": 204,
     "metadata": {},
     "output_type": "execute_result"
    }
   ],
   "source": [
    "lm.fit(x, y)"
   ]
  },
  {
   "cell_type": "code",
   "execution_count": 205,
   "metadata": {},
   "outputs": [
    {
     "name": "stdout",
     "output_type": "stream",
     "text": [
      "[[2.75395049]]\n"
     ]
    }
   ],
   "source": [
    "print(lm.coef_)"
   ]
  },
  {
   "cell_type": "code",
   "execution_count": 206,
   "metadata": {},
   "outputs": [
    {
     "data": {
      "text/plain": [
       "array([4.35046216])"
      ]
     },
     "execution_count": 206,
     "metadata": {},
     "output_type": "execute_result"
    }
   ],
   "source": [
    "lm.intercept_"
   ]
  },
  {
   "cell_type": "code",
   "execution_count": 207,
   "metadata": {},
   "outputs": [],
   "source": [
    "# 3. solve by doing gradien descent"
   ]
  },
  {
   "cell_type": "code",
   "execution_count": 208,
   "metadata": {},
   "outputs": [],
   "source": [
    "def cal_cost(theta, x, y):\n",
    "    m = len(y) # how many observations\n",
    "    predictions = x.dot(theta) # predicted result\n",
    "    error = predictions - y\n",
    "    cost = (1/(2*m)) * np.sum(np.square(error)) # loss function\n",
    "    return cost"
   ]
  },
  {
   "cell_type": "code",
   "execution_count": 209,
   "metadata": {},
   "outputs": [],
   "source": [
    "def gradient_descent(x, y, theta, learning_rate = 0.01, iterations = 200):  \n",
    "    # set default learning rate and how many iterations\n",
    "    # how many observations\n",
    "    m = len(y)\n",
    "    \n",
    "    # store the result\n",
    "    cost_history = np.zeros(iterations)\n",
    "    theta_history = np.zeros((iterations,2))\n",
    "    \n",
    "    for it in range(iterations):\n",
    "        predictions = x.dot(theta) # predicted result\n",
    "        error = predictions - y\n",
    "        theta = theta - (1/m) * learning_rate * (x.T.dot(error))\n",
    "        theta_history[it, :] = theta.T\n",
    "        cost_history[it] = cal_cost(theta,x,y)\n",
    "        \n",
    "    return theta, cost_history, theta_history"
   ]
  },
  {
   "cell_type": "code",
   "execution_count": 210,
   "metadata": {},
   "outputs": [
    {
     "name": "stdout",
     "output_type": "stream",
     "text": [
      "0.02154397964477539 seconds\n",
      "[[4.08871406]\n",
      " [2.99776654]]\n"
     ]
    }
   ],
   "source": [
    "lr =0.01\n",
    "n_iter = 1000\n",
    "\n",
    "theta_gd = np.random.randn(2,1)\n",
    "new_x = np.concatenate((intercept, x), axis=1)\n",
    "\n",
    "start = time.time()\n",
    "theta_gd,cost_history,theta_history = gradient_descent(new_x,y,theta_gd,lr,n_iter)\n",
    "end = time.time()\n",
    "print(\"{} seconds\".format(end - start))\n",
    "print(theta_gd)"
   ]
  },
  {
   "cell_type": "code",
   "execution_count": 211,
   "metadata": {},
   "outputs": [
    {
     "data": {
      "image/png": "[encoded data removed]",
      "text/plain": [
       "<Figure size 864x576 with 1 Axes>"
      ]
     },
     "metadata": {},
     "output_type": "display_data"
    }
   ],
   "source": [
    "fig,ax = plt.subplots(figsize=(12,8))\n",
    "plt.style.use(['ggplot'])\n",
    "ax.set_ylabel('J(Theta)')\n",
    "ax.set_xlabel('Iterations')\n",
    "ax.plot(range(n_iter),cost_history,'b.')\n",
    "plt.show()"
   ]
  },
  {
   "cell_type": "code",
   "execution_count": 212,
   "metadata": {},
   "outputs": [],
   "source": [
    "# Stochastic Gradient Descent"
   ]
  },
  {
   "cell_type": "code",
   "execution_count": 225,
   "metadata": {},
   "outputs": [],
   "source": [
    "def stocashtic_gradient_descent(x, y, theta, learning_rate=0.5, iterations=50):\n",
    "    \n",
    "    m = len(y)\n",
    "    cost_history = np.zeros(iterations)    \n",
    "\n",
    "    for it in range(iterations):\n",
    "        cost =0.0\n",
    "        \n",
    "        # randomly choose a sample\n",
    "        for i in range(m):\n",
    "            rand_ind = np.random.randint(0,m)\n",
    "            new_x_i = new_x[rand_ind,:].reshape(1,new_x.shape[1])\n",
    "            y_i = y[rand_ind].reshape(1,1)\n",
    "            prediction = np.dot(new_x_i,theta)\n",
    "\n",
    "            theta = theta -(1/m)*learning_rate*(new_x_i.T.dot((prediction - y_i)))\n",
    "            cost += cal_cost(theta,new_x_i,y_i)\n",
    "         \n",
    "        cost_history[it]  = cost\n",
    "        \n",
    "    return theta, cost_history"
   ]
  },
  {
   "cell_type": "code",
   "execution_count": 226,
   "metadata": {},
   "outputs": [
    {
     "name": "stdout",
     "output_type": "stream",
     "text": [
      "0.14441204071044922 seconds\n",
      "[[4.33571886]\n",
      " [2.77823639]]\n"
     ]
    }
   ],
   "source": [
    "lr = 0.5\n",
    "n_iter = 50\n",
    "\n",
    "theta = np.zeros([2,1])\n",
    "\n",
    "start = time.time()\n",
    "theta_sgd, cost_history_sgd = stocashtic_gradient_descent(new_x,y,theta,lr,n_iter)\n",
    "end = time.time()\n",
    "print(\"{} seconds\".format(end - start))\n",
    "print(theta_sgd)"
   ]
  },
  {
   "cell_type": "code",
   "execution_count": 227,
   "metadata": {},
   "outputs": [
    {
     "data": {
      "image/png": "[encoded data removed]",
      "text/plain": [
       "<Figure size 864x576 with 1 Axes>"
      ]
     },
     "metadata": {},
     "output_type": "display_data"
    }
   ],
   "source": [
    "fig,ax = plt.subplots(figsize=(12,8))\n",
    "plt.style.use(['ggplot'])\n",
    "ax.set_ylabel('J(Theta)')\n",
    "ax.set_xlabel('Iterations')\n",
    "ax.plot(range(n_iter),cost_history_sgd,'b.')\n",
    "plt.show()"
   ]
  },
  {
   "cell_type": "code",
   "execution_count": null,
   "metadata": {},
   "outputs": [],
   "source": []
  }
 ],
 "metadata": {
  "kernelspec": {
   "display_name": "Python 3",
   "language": "python",
   "name": "python3"
  },
  "language_info": {
   "codemirror_mode": {
    "name": "ipython",
    "version": 3
   },
   "file_extension": ".py",
   "mimetype": "text/x-python",
   "name": "python",
   "nbconvert_exporter": "python",
   "pygments_lexer": "ipython3",
   "version": "3.7.0"
  }
 },
 "nbformat": 4,
 "nbformat_minor": 2
}
