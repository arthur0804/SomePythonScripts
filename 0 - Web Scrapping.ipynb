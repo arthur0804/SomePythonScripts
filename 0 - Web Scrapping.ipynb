{
 "cells": [
  {
   "cell_type": "code",
   "execution_count": 1,
   "metadata": {},
   "outputs": [],
   "source": [
    "from bs4 import BeautifulSoup\n",
    "import requests"
   ]
  },
  {
   "cell_type": "code",
   "execution_count": 7,
   "metadata": {},
   "outputs": [],
   "source": [
    "source = requests.get(\"http://coreyms.com\").text"
   ]
  },
  {
   "cell_type": "code",
   "execution_count": 8,
   "metadata": {},
   "outputs": [],
   "source": [
    "soup = BeautifulSoup(source,'lxml')"
   ]
  },
  {
   "cell_type": "markdown",
   "metadata": {},
   "source": [
    "Analyze the hierarchical content<br>\n",
    "-Use **.text** to grab text<br>\n",
    "-Use **.find** to find specific html tag with the **class_** parameter<br>\n",
    "-Use **find_all** to find all the elements with the specific tag <br>\n",
    "-Use **['attribute_goes_here']** (like a dictionary) to grab the attribute<br>\n"
   ]
  },
  {
   "cell_type": "code",
   "execution_count": 36,
   "metadata": {},
   "outputs": [],
   "source": [
    "# For one article element\n",
    "article = soup.find('article')\n",
    "#print(article.prettify())"
   ]
  },
  {
   "cell_type": "code",
   "execution_count": 37,
   "metadata": {},
   "outputs": [
    {
     "name": "stdout",
     "output_type": "stream",
     "text": [
      "Python Flask Tutorial: Deploying Your Application (Option #1) – Deploy to a Linux Server\n"
     ]
    }
   ],
   "source": [
    "headline = article.h2.a.text\n",
    "print(headline)"
   ]
  },
  {
   "cell_type": "code",
   "execution_count": 38,
   "metadata": {},
   "outputs": [
    {
     "name": "stdout",
     "output_type": "stream",
     "text": [
      "In this Python Flask Tutorial, we will be learning how to deploy our application to a Linux Server from scratch using Linode. We will be covering the entire deployment of a Flask application. This includes spinning up a new Linux Server and tightening its security with SSH keys and firewalls. Then we will install Nginx and Gunicorn so that we can get our Flask App running. Let’s get started…\n"
     ]
    }
   ],
   "source": [
    "summary = article.find('div', class_ = \"entry-content\").p.text\n",
    "print(summary)"
   ]
  },
  {
   "cell_type": "code",
   "execution_count": 39,
   "metadata": {},
   "outputs": [
    {
     "name": "stdout",
     "output_type": "stream",
     "text": [
      "https://youtube.com/watch?v=goToXTC96Co\n"
     ]
    }
   ],
   "source": [
    "vid_src = article.find('iframe', class_ = \"youtube-player\")['src']\n",
    "vid_id = vid_src.split('/')[4]\n",
    "vid_id = vid_id.split('?')[0]\n",
    "yt_link = f'https://youtube.com/watch?v={vid_id}'\n",
    "print(yt_link)"
   ]
  },
  {
   "cell_type": "code",
   "execution_count": 40,
   "metadata": {},
   "outputs": [
    {
     "name": "stdout",
     "output_type": "stream",
     "text": [
      "Python Flask Tutorial: Deploying Your Application (Option #1) – Deploy to a Linux Server\n",
      "In this Python Flask Tutorial, we will be learning how to deploy our application to a Linux Server from scratch using Linode. We will be covering the entire deployment of a Flask application. This includes spinning up a new Linux Server and tightening its security with SSH keys and firewalls. Then we will install Nginx and Gunicorn so that we can get our Flask App running. Let’s get started…\n",
      "https://youtube.com/watch?v=goToXTC96Co\n",
      "Python Django Tutorial: Deploying Your Application (Option #1) – Deploy to a Linux Server\n",
      "In this Python Django Tutorial, we will be learning how to deploy our application to a Linux Server from scratch using Linode. We will be covering the entire deployment of a Django application. This includes spinning up a new Linux Server and tightening its security with SSH keys and firewalls. Then we will install Apache and Mod_WSGI so that we can get our Django App running. Let’s get started…\n",
      "https://youtube.com/watch?v=Sa_kQheCnds\n",
      "Python Tutorial: Itertools Module – Iterator Functions for Efficient Looping\n",
      "In this Python Programming Tutorial, we will be learning about the itertools module. The itertools module is a collection of functions that allows us to work with iterators in an efficient way. Depending on your problem, this can save you a lot of memory and also a lot of work. Let’s get started…\n",
      "https://youtube.com/watch?v=Qu3dThVy6KQ\n",
      "Python Coding Problem: Creating Your Own Iterators\n",
      "In this Python Coding Problem, we will be creating our own iterators from scratch. First, we will create an iterator using a class. Then we will create an iterator with the same functionality using a generator. If you haven’t watched the tutorial video on Iterators and Iterables then I would suggest watching that first. With that said, let’s get started…\n",
      "https://youtube.com/watch?v=C3Z9lJXI6Qw\n",
      "Python Tutorial: Iterators and Iterables – What Are They and How Do They Work?\n",
      "In this Python Programming Tutorial, we will be learning about iterators and iterables. There is a lot of confusion around these terms and exactly what they mean. We’re also going to learn how to make an object ourselves that is both an iterable and an iterator. This video isn’t only about understanding these definitions. It’s also about understanding the concepts of iterators so that you can write better code. Understanding these underlying concepts is going to help you write code that is more efficient and will also help you see solutions to certain problems in a way you might not have thought of before. So with that said, let’s get started…\n",
      "https://youtube.com/watch?v=jTYiNjvnHZY\n",
      "Python Tutorial: Pipenv – Easily Manage Packages and Virtual Environments\n",
      "In this Python Programming Tutorial, we will be learning how to use Pipenv. Pipenv is a new package manager that combines pip and virtualenv into one easy-to-use tool. We will learn how to install pipenv, how to install new packages, how to manage our newly created environment for our project, and also look at some more advanced use cases. Let’s get started…\n",
      "https://youtube.com/watch?v=zDYL22QNiWk\n",
      "Python Django Tutorials – Full Series\n",
      "In this Python Django Tutorial, we will be learning how to get started using the Django framework. We will install the necessary packages and get a basic application running in our browser.\n",
      "https://youtube.com/watch?v=UmljXZIypDc\n",
      "Best Sublime Text Features and Shortcuts\n",
      "In this video, we will be learning about my favorite Sublime Text features and shortcuts for Windows. Knowing your way around your text editor will help you get things done much faster and be more productive. The features in this video have saved me a ton of time over the years. I have two different versions of this video depending on your operating system…\n",
      "https://youtube.com/watch?v=9FPFogHkgOc\n",
      "Python Tutorial: How to Set the Path and Switch Between Different Versions/Executables\n",
      "In this Python Programming Tutorial, we will be learning how to set the PATH environment variable. We will also learn how to modify the PATH in order to switch between different Python versions and executables. This is an essential skill that trips up many people when they first start learning Python and will definitely help you in many real-world situations. I have two different versions of this video depending on your operating system…\n",
      "https://youtube.com/watch?v=OdIHeg4jj2c\n",
      "Python Quick Tip: F-Strings – How to Use Them and Advanced String Formatting\n",
      "In this Python Programming Tutorial, we will be learning how to use f-strings to format strings. F-strings are new to Python3.6+ and are extremely useful once you learn how to use them. Viewers have likely seen me use f-strings in previous videos so this video will go into detail exactly how to use them so that everyone can follow along confidently. Let’s get started…\n",
      "https://youtube.com/watch?v=nghuHvKLhJA\n"
     ]
    }
   ],
   "source": [
    "# for all article elements\n",
    "for article in soup.find_all('article'):\n",
    "    headline = article.h2.a.text\n",
    "    print(headline)\n",
    "    summary = article.find('div', class_ = \"entry-content\").p.text\n",
    "    print(summary)\n",
    "    vid_src = article.find('iframe', class_ = \"youtube-player\")['src']\n",
    "    vid_id = vid_src.split('/')[4]\n",
    "    vid_id = vid_id.split('?')[0]\n",
    "    yt_link = f'https://youtube.com/watch?v={vid_id}'\n",
    "    print(yt_link)"
   ]
  },
  {
   "cell_type": "markdown",
   "metadata": {},
   "source": [
    "#### Deal with missing elements: put into a try-except block"
   ]
  }
 ],
 "metadata": {
  "kernelspec": {
   "display_name": "Python 3",
   "language": "python",
   "name": "python3"
  },
  "language_info": {
   "codemirror_mode": {
    "name": "ipython",
    "version": 3
   },
   "file_extension": ".py",
   "mimetype": "text/x-python",
   "name": "python",
   "nbconvert_exporter": "python",
   "pygments_lexer": "ipython3",
   "version": "3.7.0"
  }
 },
 "nbformat": 4,
 "nbformat_minor": 2
}
