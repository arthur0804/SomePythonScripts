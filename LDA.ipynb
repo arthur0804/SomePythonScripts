{
 "cells": [
  {
   "cell_type": "markdown",
   "metadata": {},
   "source": [
    "### topic modeling - LDA"
   ]
  },
  {
   "cell_type": "code",
   "execution_count": 100,
   "metadata": {},
   "outputs": [],
   "source": [
    "from nltk.tokenize import RegexpTokenizer\n",
    "from nltk.stem.porter import PorterStemmer\n",
    "from nltk.corpus import stopwords\n",
    "import gensim, nltk, re\n",
    "from gensim import corpora,models"
   ]
  },
  {
   "cell_type": "code",
   "execution_count": 101,
   "metadata": {},
   "outputs": [],
   "source": [
    "# This small corpus is only for getting familiar with the model\n",
    "doc_a = \"Brocolli is good to eat. My brother likes to eat good brocolli, but not my mother.\"\n",
    "doc_b = \"My mother spends a lot of time driving my brother around to baseball practice.\"\n",
    "doc_c = \"Some health experts suggest that driving may cause increased tension and blood pressure.\"\n",
    "doc_d = \"I often feel pressure to perform well at school, but my mother never seems to drive my brother to do better.\"\n",
    "doc_e = \"Health professionals say that brocolli is good for your health.\"\n",
    "\n",
    "doc_set = [doc_a, doc_b, doc_c, doc_d, doc_e]"
   ]
  },
  {
   "cell_type": "code",
   "execution_count": 102,
   "metadata": {},
   "outputs": [],
   "source": [
    "# clean the text\n",
    "texts = []\n",
    "for i in doc_set:\n",
    "    \n",
    "    # clean and tokenize document string\n",
    "    raw = i.lower()\n",
    "    raw = re.sub(r\"[^\\w\\s]\", \"\", raw)\n",
    "    tokens = nltk.word_tokenize(raw)\n",
    "\n",
    "    # remove stop words from tokens\n",
    "    stop = stopwords.words(\"english\")\n",
    "    stopped_tokens = [i for i in tokens if not i in stop]\n",
    "\n",
    "    # add tokens to list\n",
    "    texts.append(stopped_tokens)"
   ]
  },
  {
   "cell_type": "code",
   "execution_count": 104,
   "metadata": {},
   "outputs": [
    {
     "data": {
      "text/plain": [
       "['brocolli',\n",
       " 'good',\n",
       " 'eat',\n",
       " 'brother',\n",
       " 'likes',\n",
       " 'eat',\n",
       " 'good',\n",
       " 'brocolli',\n",
       " 'mother']"
      ]
     },
     "execution_count": 104,
     "metadata": {},
     "output_type": "execute_result"
    }
   ],
   "source": [
    "# how it looks like\n",
    "texts[0]"
   ]
  },
  {
   "cell_type": "code",
   "execution_count": 105,
   "metadata": {},
   "outputs": [
    {
     "data": {
      "text/plain": [
       "<gensim.corpora.dictionary.Dictionary at 0x1a1758f978>"
      ]
     },
     "execution_count": 105,
     "metadata": {},
     "output_type": "execute_result"
    }
   ],
   "source": [
    "# turn our tokenized documents into a id <-> term dictionary\n",
    "dictionary = corpora.Dictionary(texts)\n",
    "dictionary"
   ]
  },
  {
   "cell_type": "code",
   "execution_count": 124,
   "metadata": {},
   "outputs": [],
   "source": [
    "# convert tokenized documents into a document-term matrix\n",
    "corpus = [dictionary.doc2bow(text) for text in texts]"
   ]
  },
  {
   "cell_type": "code",
   "execution_count": 125,
   "metadata": {},
   "outputs": [
    {
     "data": {
      "text/plain": [
       "[[(0, 2), (1, 1), (2, 2), (3, 2), (4, 1), (5, 1)],\n",
       " [(1, 1), (5, 1), (6, 1), (7, 1), (8, 1), (9, 1), (10, 1), (11, 1), (12, 1)],\n",
       " [(8, 1),\n",
       "  (13, 1),\n",
       "  (14, 1),\n",
       "  (15, 1),\n",
       "  (16, 1),\n",
       "  (17, 1),\n",
       "  (18, 1),\n",
       "  (19, 1),\n",
       "  (20, 1),\n",
       "  (21, 1)],\n",
       " [(1, 1),\n",
       "  (5, 1),\n",
       "  (19, 1),\n",
       "  (22, 1),\n",
       "  (23, 1),\n",
       "  (24, 1),\n",
       "  (25, 1),\n",
       "  (26, 1),\n",
       "  (27, 1),\n",
       "  (28, 1),\n",
       "  (29, 1),\n",
       "  (30, 1)],\n",
       " [(0, 1), (3, 1), (16, 2), (31, 1), (32, 1)]]"
      ]
     },
     "execution_count": 125,
     "metadata": {},
     "output_type": "execute_result"
    }
   ],
   "source": [
    "# the corpus shows what terms appear how many terms in each document <wordid, frequency>\n",
    "corpus"
   ]
  },
  {
   "cell_type": "code",
   "execution_count": 126,
   "metadata": {},
   "outputs": [
    {
     "data": {
      "text/plain": [
       "'brocolli'"
      ]
     },
     "execution_count": 126,
     "metadata": {},
     "output_type": "execute_result"
    }
   ],
   "source": [
    "# see what the wordid represents\n",
    "dictionary[0]"
   ]
  },
  {
   "cell_type": "code",
   "execution_count": 128,
   "metadata": {},
   "outputs": [
    {
     "data": {
      "text/plain": [
       "[[('brocolli', 2),\n",
       "  ('brother', 1),\n",
       "  ('eat', 2),\n",
       "  ('good', 2),\n",
       "  ('likes', 1),\n",
       "  ('mother', 1)],\n",
       " [('brother', 1),\n",
       "  ('mother', 1),\n",
       "  ('around', 1),\n",
       "  ('baseball', 1),\n",
       "  ('driving', 1),\n",
       "  ('lot', 1),\n",
       "  ('practice', 1),\n",
       "  ('spends', 1),\n",
       "  ('time', 1)],\n",
       " [('driving', 1),\n",
       "  ('blood', 1),\n",
       "  ('cause', 1),\n",
       "  ('experts', 1),\n",
       "  ('health', 1),\n",
       "  ('increased', 1),\n",
       "  ('may', 1),\n",
       "  ('pressure', 1),\n",
       "  ('suggest', 1),\n",
       "  ('tension', 1)],\n",
       " [('brother', 1),\n",
       "  ('mother', 1),\n",
       "  ('pressure', 1),\n",
       "  ('better', 1),\n",
       "  ('drive', 1),\n",
       "  ('feel', 1),\n",
       "  ('never', 1),\n",
       "  ('often', 1),\n",
       "  ('perform', 1),\n",
       "  ('school', 1),\n",
       "  ('seems', 1),\n",
       "  ('well', 1)],\n",
       " [('brocolli', 1),\n",
       "  ('good', 1),\n",
       "  ('health', 2),\n",
       "  ('professionals', 1),\n",
       "  ('say', 1)]]"
      ]
     },
     "execution_count": 128,
     "metadata": {},
     "output_type": "execute_result"
    }
   ],
   "source": [
    "# Human readable format of corpus (term-frequency)\n",
    "[[(dictionary[id], freq) for id, freq in cp] for cp in corpus]"
   ]
  },
  {
   "cell_type": "code",
   "execution_count": 80,
   "metadata": {},
   "outputs": [],
   "source": [
    "# use \"num_topics\" to specify how many topics to generate\n",
    "ldamodel = gensim.models.ldamodel.LdaModel(corpus, num_topics=3, id2word = dictionary, passes=20)"
   ]
  },
  {
   "cell_type": "code",
   "execution_count": 81,
   "metadata": {},
   "outputs": [
    {
     "name": "stdout",
     "output_type": "stream",
     "text": [
      "[(0, '0.073*\"good\" + 0.073*\"brocolli\" + 0.073*\"brother\"'), (1, '0.067*\"driving\" + 0.067*\"mother\" + 0.067*\"baseball\"'), (2, '0.124*\"health\" + 0.049*\"pressure\" + 0.049*\"increased\"')]\n"
     ]
    }
   ],
   "source": [
    "# see the three topics and how words make contributions\n",
    "print(ldamodel.print_topics(num_topics=3, num_words=3))\n",
    "\n",
    "# The code below prints the contributions(weight) of all the words\n",
    "# for i in ldamodel.show_topics(formatted=False,num_topics=ldamodel.num_topics,num_words=len(ldamodel.id2word)):\n",
    "    # print (\"{}\\n\".format(i))"
   ]
  },
  {
   "cell_type": "code",
   "execution_count": 112,
   "metadata": {},
   "outputs": [
    {
     "name": "stdout",
     "output_type": "stream",
     "text": [
      "The topic probability distribution of document 0 is [(0, 0.9309951), (1, 0.034331925), (2, 0.034673043)]\n",
      "The topic probability distribution of document 1 is [(0, 0.0349706), (1, 0.9311617), (2, 0.033867665)]\n",
      "The topic probability distribution of document 2 is [(0, 0.030807817), (1, 0.031153841), (2, 0.9380383)]\n",
      "The topic probability distribution of document 3 is [(0, 0.94744784), (1, 0.026369436), (2, 0.026182756)]\n",
      "The topic probability distribution of document 4 is [(0, 0.053381566), (1, 0.047964066), (2, 0.8986544)]\n"
     ]
    }
   ],
   "source": [
    "# we can also see the topic probability distribution of each document\n",
    "for i in range(0,len(corpus)):\n",
    "    print(\"The topic probability distribution of document {} is {}\".format(i,ldamodel[corpus[i]]))"
   ]
  },
  {
   "cell_type": "code",
   "execution_count": 98,
   "metadata": {},
   "outputs": [],
   "source": [
    "# we can also infer a new document to see which topic it is in\n",
    "doc = ['brocolli', 'good', 'eat']\n",
    "bow = ldamodel.id2word.doc2bow(doc)\n",
    "topic_analysis = ldamodel[bow]"
   ]
  },
  {
   "cell_type": "code",
   "execution_count": 99,
   "metadata": {
    "scrolled": true
   },
   "outputs": [
    {
     "data": {
      "text/plain": [
       "[(0, 0.82752615), (1, 0.08377978), (2, 0.088694096)]"
      ]
     },
     "execution_count": 99,
     "metadata": {},
     "output_type": "execute_result"
    }
   ],
   "source": [
    "# the probability of each topic that the document belongs to\n",
    "topic_analysis"
   ]
  },
  {
   "cell_type": "markdown",
   "metadata": {},
   "source": [
    "References: <br>\n",
    "https://stackoverflow.com/questions/45310925/how-to-get-a-complete-topic-distribution-for-a-document-using-gensim-lda <br>\n",
    "https://svn.spraakdata.gu.se/repos/richard/pub/statnlp2016_web/vgassignment1.html<br>\n",
    "https://radimrehurek.com/gensim/models/ldamodel.html<br>\n",
    "https://www.machinelearningplus.com/nlp/topic-modeling-gensim-python/"
   ]
  }
 ],
 "metadata": {
  "kernelspec": {
   "display_name": "Python 3",
   "language": "python",
   "name": "python3"
  },
  "language_info": {
   "codemirror_mode": {
    "name": "ipython",
    "version": 3
   },
   "file_extension": ".py",
   "mimetype": "text/x-python",
   "name": "python",
   "nbconvert_exporter": "python",
   "pygments_lexer": "ipython3",
   "version": "3.7.2"
  }
 },
 "nbformat": 4,
 "nbformat_minor": 2
}
